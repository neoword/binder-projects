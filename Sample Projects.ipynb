{
 "cells": [
  {
   "cell_type": "markdown",
   "metadata": {},
   "source": [
    "# Sample Projects\n",
    "This notebook is intended as a playground to try out various python widgets, ideas etc. This notebook is publically saved on github."
   ]
  },
  {
   "cell_type": "code",
   "execution_count": 1,
   "metadata": {},
   "outputs": [],
   "source": [
    "# tax rate is fixed\n",
    "TAX_RATE = .0605"
   ]
  },
  {
   "cell_type": "code",
   "execution_count": 2,
   "metadata": {},
   "outputs": [],
   "source": [
    "from math import floor\n",
    "\n",
    "def round(x):\n",
    "    return floor((x * 100) + .5)/100.0\n",
    "\n",
    "class LineItem:\n",
    "    def __init__(self,label,each_amount,qty):\n",
    "        self.label = label\n",
    "        self.each_amount = each_amount\n",
    "        self.qty = qty\n",
    "        self.line_amount = round(self.each_amount * self.qty)\n",
    "    def __str__(self):\n",
    "        if self.label == \"LTAX\":\n",
    "            return \"{} {} x {:0,.4f} = ${:0,.2f}\".format(self.label,self.qty,self.each_amount,self.line_amount)\n",
    "        return \"{} {} x ${:0,.2f} = ${:0,.2f}\".format(self.label,self.qty,self.each_amount,self.line_amount)\n",
    "\n",
    "def invoice_str(invoice):\n",
    "    return [str(i) for i in invoice]"
   ]
  },
  {
   "cell_type": "code",
   "execution_count": 3,
   "metadata": {},
   "outputs": [],
   "source": [
    "def simple_prediction(stay_nights,gross_paid,tax_paid,cln_fee,pet_fee,npets,extra_fee,rate):\n",
    "    print(\"Trying prediction[simple,pet={}]\".format(npets))\n",
    "    predicted_nightly_rate = (gross_paid - tax_paid - cln_fee - extra_fee - (pet_fee * npets)) / stay_nights\n",
    "    rent = (predicted_nightly_rate * stay_nights)\n",
    "    pets = pet_fee * npets\n",
    "    subtotal = rent + cln_fee + pets + extra_fee\n",
    "    tax_calc = round(subtotal * rate)\n",
    "    total = subtotal + tax_calc\n",
    "    invoice = [\n",
    "        LineItem(\"RNT\",predicted_nightly_rate,stay_nights),\n",
    "        LineItem(\"CLN\",cln_fee,1),\n",
    "        LineItem(\"PET\",pet_fee,npets),\n",
    "        LineItem(\"XFEE\",extra_fee,1),\n",
    "        LineItem(\"LTAX\",rate,subtotal)]\n",
    "    print(\"Trying invoice={}\".format(invoice_str(invoice)))\n",
    "    \n",
    "    if total != gross_paid:\n",
    "        print(\"Invoice FAILED!!\")\n",
    "        raise RuntimeError(\"Could not predict invoice!\")\n",
    "        \n",
    "    print(\"Invoice succeeded.\")\n",
    "    return invoice"
   ]
  },
  {
   "cell_type": "code",
   "execution_count": 4,
   "metadata": {},
   "outputs": [],
   "source": [
    "def predict_invoice(stay_nights,gross_paid,tax_paid,cln_fee=135.00,pet_fee=95.00,extra_fee=0.0, rate=.05):\n",
    "    \"\"\"\n",
    "    Predicts the invoice line items given stay nights, gross amount paid,\n",
    "    taxes paid, cleaning fee, and pet fees.  If the invoice can not be predicted,\n",
    "    raise an exception.\n",
    "    \n",
    "    Parameters\n",
    "    ----------\n",
    "      stay_nights : integer\n",
    "          The number of nights stayed. Used to multiple the nightly rate to determine overal rent.\n",
    "      gross_paid : double\n",
    "          The amount (USD) paid for the stay\n",
    "      tax_paid : double\n",
    "          The amount (USD) paid in taxes.  This should be total amount (rent + fees) * TAX_RATE.\n",
    "      cln_fee : double\n",
    "          The amount (USD) charged/paid for cleaning fees.\n",
    "      pet_fee : double\n",
    "          The amount (USD) charged/paid for pet fees.\n",
    "    \n",
    "    Returns\n",
    "    -------\n",
    "       A list of invoice items or raises an exception if the invoice could not be created\n",
    "    \"\"\"\n",
    "    \n",
    "#    # initialize the list of predictions\n",
    "#    # a prediction is just a function that tries to return a list of invoice items\n",
    "#    predictions = [simple_prediction]\n",
    "\n",
    "    print(\"Predicting invoice:\")\n",
    "    print(\"   (stay_nights :: gross_paid :: tax_paid) = ({} :: ${:0,.2f} :: ${:0,.2f})\".format(stay_nights,gross_paid,tax_paid))\n",
    "#    prediction = predictions.pop()\n",
    "    invoice = []\n",
    "    npets = 0\n",
    "    while True:\n",
    "        try:\n",
    "#            invoice = prediction(stay_nights,gross_paid,tax_paid,cln_fee,pet_fee,npets)\n",
    "            invoice = simple_prediction(stay_nights,gross_paid,tax_paid,cln_fee,pet_fee,npets,extra_fee,rate)\n",
    "            break\n",
    "        except RuntimeError:\n",
    "#            try:\n",
    "#                prediction = predictions.pop()\n",
    "#            except IndexError:\n",
    "#                raise RuntimeError(\"Could not predict invoice!\")\n",
    "            npets += 1\n",
    "            if npets==3 and rate==.05:\n",
    "                raise RuntimeError(\"Could not predict invoice!\")\n",
    "            elif npets==3:\n",
    "                return predict_invoice(stay_nights,gross_paid,tax_paid,cln_fee,pet_fee,extra_fee,rate=.0605)\n",
    "\n",
    "    return invoice"
   ]
  },
  {
   "cell_type": "code",
   "execution_count": 5,
   "metadata": {},
   "outputs": [
    {
     "data": {
      "text/plain": [
       "[['HA-7G4ZNN', '20201213', '8', '1518.3', '48.58', '1469.72', '72.3', '0'],\n",
       " ['HA-DJVVLZ', '20201214', '4', '645.75', '20.66', '625.09', '30.75', '0'],\n",
       " ['HA-HR9X86',\n",
       "  '20201226',\n",
       "  '7',\n",
       "  '1748.67',\n",
       "  '55.95',\n",
       "  '1692.72',\n",
       "  '83.27',\n",
       "  '-29.6'],\n",
       " ['HA-RHS034',\n",
       "  '20201228',\n",
       "  '9',\n",
       "  '2340.45',\n",
       "  '74.51',\n",
       "  '2265.94',\n",
       "  '111.45',\n",
       "  '-10'],\n",
       " ['HA-H7F8FJ', '20210102', '7', '1756.23', '56.19', '1700.04', '83.63', '0'],\n",
       " ['HA-9NZ0ZG', '20210103', '4', '1222.2', '39.1', '1183.1', '58.2', '0']]"
      ]
     },
     "execution_count": 5,
     "metadata": {},
     "output_type": "execute_result"
    }
   ],
   "source": [
    "import csv\n",
    "\n",
    "with open('payments.tsv') as payments_file:\n",
    "    values_tsv = csv.reader(payments_file, delimiter='\\t')\n",
    "    data=[row for row in values_tsv]\n",
    "    data=data[1:]\n",
    "data"
   ]
  },
  {
   "cell_type": "code",
   "execution_count": 6,
   "metadata": {},
   "outputs": [
    {
     "name": "stdout",
     "output_type": "stream",
     "text": [
      "Predicting invoice:\n",
      "   (stay_nights :: gross_paid :: tax_paid) = (8 :: $1,518.30 :: $72.30)\n",
      "Trying prediction[simple,pet=0]\n",
      "Trying invoice=['RNT 8 x $163.88 = $1,311.00', 'CLN 1 x $135.00 = $135.00', 'PET 0 x $95.00 = $0.00', 'XFEE 1 x $0.00 = $0.00', 'LTAX 1446.0 x 0.0500 = $72.30']\n",
      "Invoice succeeded.\n",
      "Predicting invoice:\n",
      "   (stay_nights :: gross_paid :: tax_paid) = (4 :: $645.75 :: $30.75)\n",
      "Trying prediction[simple,pet=0]\n",
      "Trying invoice=['RNT 4 x $120.00 = $480.00', 'CLN 1 x $135.00 = $135.00', 'PET 0 x $95.00 = $0.00', 'XFEE 1 x $0.00 = $0.00', 'LTAX 615.0 x 0.0500 = $30.75']\n",
      "Invoice succeeded.\n",
      "Predicting invoice:\n",
      "   (stay_nights :: gross_paid :: tax_paid) = (7 :: $1,748.67 :: $83.27)\n",
      "Trying prediction[simple,pet=0]\n",
      "Trying invoice=['RNT 7 x $222.86 = $1,560.00', 'CLN 1 x $135.00 = $135.00', 'PET 0 x $95.00 = $0.00', 'XFEE 1 x $-29.60 = $-29.60', 'LTAX 1665.4 x 0.0500 = $83.27']\n",
      "Invoice succeeded.\n",
      "Predicting invoice:\n",
      "   (stay_nights :: gross_paid :: tax_paid) = (9 :: $2,340.45 :: $111.45)\n",
      "Trying prediction[simple,pet=0]\n",
      "Trying invoice=['RNT 9 x $233.78 = $2,104.00', 'CLN 1 x $135.00 = $135.00', 'PET 0 x $95.00 = $0.00', 'XFEE 1 x $-10.00 = $-10.00', 'LTAX 2229.0 x 0.0500 = $111.45']\n",
      "Invoice succeeded.\n",
      "Predicting invoice:\n",
      "   (stay_nights :: gross_paid :: tax_paid) = (7 :: $1,756.23 :: $83.63)\n",
      "Trying prediction[simple,pet=0]\n",
      "Trying invoice=['RNT 7 x $219.66 = $1,537.60', 'CLN 1 x $135.00 = $135.00', 'PET 0 x $95.00 = $0.00', 'XFEE 1 x $0.00 = $0.00', 'LTAX 1672.6 x 0.0500 = $83.63']\n",
      "Invoice succeeded.\n",
      "Predicting invoice:\n",
      "   (stay_nights :: gross_paid :: tax_paid) = (4 :: $1,222.20 :: $58.20)\n",
      "Trying prediction[simple,pet=0]\n",
      "Trying invoice=['RNT 4 x $257.25 = $1,029.00', 'CLN 1 x $135.00 = $135.00', 'PET 0 x $95.00 = $0.00', 'XFEE 1 x $0.00 = $0.00', 'LTAX 1164.0 x 0.0500 = $58.20']\n",
      "Invoice succeeded.\n"
     ]
    },
    {
     "data": {
      "text/plain": [
       "{'HA-7G4ZNN co 20201213:1518.3': ['RNT 8 x $163.88 = $1,311.00',\n",
       "  'CLN 1 x $135.00 = $135.00',\n",
       "  'PET 0 x $95.00 = $0.00',\n",
       "  'XFEE 1 x $0.00 = $0.00',\n",
       "  'LTAX 1446.0 x 0.0500 = $72.30'],\n",
       " 'HA-DJVVLZ co 20201214:645.75': ['RNT 4 x $120.00 = $480.00',\n",
       "  'CLN 1 x $135.00 = $135.00',\n",
       "  'PET 0 x $95.00 = $0.00',\n",
       "  'XFEE 1 x $0.00 = $0.00',\n",
       "  'LTAX 615.0 x 0.0500 = $30.75'],\n",
       " 'HA-HR9X86 co 20201226:1748.67': ['RNT 7 x $222.86 = $1,560.00',\n",
       "  'CLN 1 x $135.00 = $135.00',\n",
       "  'PET 0 x $95.00 = $0.00',\n",
       "  'XFEE 1 x $-29.60 = $-29.60',\n",
       "  'LTAX 1665.4 x 0.0500 = $83.27'],\n",
       " 'HA-RHS034 co 20201228:2340.45': ['RNT 9 x $233.78 = $2,104.00',\n",
       "  'CLN 1 x $135.00 = $135.00',\n",
       "  'PET 0 x $95.00 = $0.00',\n",
       "  'XFEE 1 x $-10.00 = $-10.00',\n",
       "  'LTAX 2229.0 x 0.0500 = $111.45'],\n",
       " 'HA-H7F8FJ co 20210102:1756.23': ['RNT 7 x $219.66 = $1,537.60',\n",
       "  'CLN 1 x $135.00 = $135.00',\n",
       "  'PET 0 x $95.00 = $0.00',\n",
       "  'XFEE 1 x $0.00 = $0.00',\n",
       "  'LTAX 1672.6 x 0.0500 = $83.63'],\n",
       " 'HA-9NZ0ZG co 20210103:1222.2': ['RNT 4 x $257.25 = $1,029.00',\n",
       "  'CLN 1 x $135.00 = $135.00',\n",
       "  'PET 0 x $95.00 = $0.00',\n",
       "  'XFEE 1 x $0.00 = $0.00',\n",
       "  'LTAX 1164.0 x 0.0500 = $58.20']}"
      ]
     },
     "execution_count": 6,
     "metadata": {},
     "output_type": "execute_result"
    }
   ],
   "source": [
    "def invoice_label(row):\n",
    "    return \"{} co {}:{}\".format(row[0],row[1],row[3])\n",
    "\n",
    "def to_invoice(row):\n",
    "    try:\n",
    "        return invoice_str(predict_invoice(stay_nights=int(row[2]),\n",
    "                                          gross_paid=float(row[3]),\n",
    "                                          tax_paid=float(row[6]),\n",
    "                                          extra_fee=float(row[7])))\n",
    "    except:\n",
    "        return \"INVOICE FAIL\"\n",
    "\n",
    "results = {invoice_label(row):to_invoice(row) for row in data}\n",
    "results"
   ]
  },
  {
   "cell_type": "code",
   "execution_count": null,
   "metadata": {},
   "outputs": [],
   "source": []
  }
 ],
 "metadata": {
  "kernelspec": {
   "display_name": "Python 3",
   "language": "python",
   "name": "python3"
  },
  "language_info": {
   "codemirror_mode": {
    "name": "ipython",
    "version": 3
   },
   "file_extension": ".py",
   "mimetype": "text/x-python",
   "name": "python",
   "nbconvert_exporter": "python",
   "pygments_lexer": "ipython3",
   "version": "3.8.5"
  }
 },
 "nbformat": 4,
 "nbformat_minor": 4
}
