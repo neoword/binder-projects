{
 "cells": [
  {
   "cell_type": "markdown",
   "metadata": {},
   "source": [
    "# Sample Projects\n",
    "This notebook is intended as a playground to try out various python widgets, ideas etc. This notebook is publically saved on github."
   ]
  },
  {
   "cell_type": "code",
   "execution_count": 1,
   "metadata": {},
   "outputs": [],
   "source": [
    "# tax rate is fixed\n",
    "TAX_RATE = .0605"
   ]
  },
  {
   "cell_type": "code",
   "execution_count": 2,
   "metadata": {},
   "outputs": [],
   "source": [
    "class LineItem:\n",
    "    def __init__(self,label,each_amount,qty):\n",
    "        self.label = label\n",
    "        self.each_amount = each_amount\n",
    "        self.qty = qty\n",
    "        self.line_amount = self.each_amount * self.qty\n",
    "    def __str__(self):\n",
    "        return \"{} {} x ${:0,.2f} = ${:0,.2f}\".format(self.label,self.qty,self.each_amount,self.line_amount)\n",
    "\n",
    "def invoice_str(invoice):\n",
    "    return [str(i) for i in invoice]"
   ]
  },
  {
   "cell_type": "code",
   "execution_count": 3,
   "metadata": {},
   "outputs": [],
   "source": [
    "def simple_prediction(stay_nights,gross_paid,tax_paid,cln_fee,pet_fee,npets):\n",
    "    print(\"Trying prediction[simple]\")\n",
    "    predicted_nightly_rate = round((gross_paid - tax_paid - cln_fee - (pet_fee * npets)) / stay_nights, 2)\n",
    "    rent = (predicted_nightly_rate * stay_nights)\n",
    "    pets = pet_fee * npets\n",
    "    subtotal = rent + cln_fee + pets\n",
    "    tax_calc = round(subtotal * TAX_RATE, 2)\n",
    "    total = subtotal + tax_calc\n",
    "    invoice = [\n",
    "        LineItem(\"RNT\",predicted_nightly_rate,stay_nights),\n",
    "        LineItem(\"CLN\",cln_fee,1),\n",
    "        LineItem(\"PET\",pet_fee,npets),\n",
    "        LineItem(\"LTAX\",tax_paid,1)]\n",
    "    print(\"Trying invoice={}\".format(invoice_str(invoice)))\n",
    "    if total != gross_paid:\n",
    "        raise RuntimeError(\"Could not predict invoice!\")\n",
    "    return invoice"
   ]
  },
  {
   "cell_type": "code",
   "execution_count": 4,
   "metadata": {},
   "outputs": [],
   "source": [
    "def predict_invoice(stay_nights,gross_paid,tax_paid,cln_fee=135.00,pet_fee=95.00,npets=0):\n",
    "    \"\"\"\n",
    "    Predicts the invoice line items given stay nights, gross amount paid,\n",
    "    taxes paid, cleaning fee, and pet fees.  If the invoice can not be predicted,\n",
    "    raise an exception.\n",
    "    \n",
    "    Parameters\n",
    "    ----------\n",
    "      stay_nights : integer\n",
    "          The number of nights stayed. Used to multiple the nightly rate to determine overal rent.\n",
    "      gross_paid : double\n",
    "          The amount (USD) paid for the stay\n",
    "      tax_paid : double\n",
    "          The amount (USD) paid in taxes.  This should be total amount (rent + fees) * TAX_RATE.\n",
    "      cln_fee : double\n",
    "          The amount (USD) charged/paid for cleaning fees.\n",
    "      pet_fee : double\n",
    "          The amount (USD) charged/paid for pet fees.\n",
    "    \n",
    "    Returns\n",
    "    -------\n",
    "       A list of invoice items or raises an exception if the invoice could not be created\n",
    "    \"\"\"\n",
    "    \n",
    "    # initialize the list of predictions\n",
    "    # a prediction is just a function that tries to return a list of invoice items\n",
    "    predictions = [simple_prediction]\n",
    "\n",
    "    print(\"Predicting invoice:\")\n",
    "    print(\"   (stay_nights :: gross_paid :: tax_paid) = ({} :: ${:0,.2f} :: ${:0,.2f})\".format(stay_nights,gross_paid,tax_paid))\n",
    "    prediction = predictions.pop()\n",
    "    invoice = []\n",
    "    while True:\n",
    "        try:\n",
    "            invoice = prediction(stay_nights,gross_paid,tax_paid,cln_fee,pet_fee,npets)\n",
    "            break\n",
    "        except RuntimeError:\n",
    "            try:\n",
    "                prediction = predictions.pop()\n",
    "            except IndexError:\n",
    "                raise RuntimeError(\"Could not predict invoice!\")\n",
    "    return invoice"
   ]
  },
  {
   "cell_type": "code",
   "execution_count": 8,
   "metadata": {},
   "outputs": [
    {
     "name": "stdout",
     "output_type": "stream",
     "text": [
      "Predicting invoice:\n",
      "   (stay_nights :: gross_paid :: tax_paid) = (2 :: $694.63 :: $39.63)\n",
      "Trying prediction[simple]\n",
      "Trying invoice=['RNT 2 x $260.00 = $520.00', 'CLN 1 x $135.00 = $135.00', 'PET 0 x $95.00 = $0.00', 'LTAX 1 x $39.63 = $39.63']\n"
     ]
    },
    {
     "data": {
      "text/plain": [
       "['RNT 2 x $260.00 = $520.00',\n",
       " 'CLN 1 x $135.00 = $135.00',\n",
       " 'PET 0 x $95.00 = $0.00',\n",
       " 'LTAX 1 x $39.63 = $39.63']"
      ]
     },
     "execution_count": 8,
     "metadata": {},
     "output_type": "execute_result"
    }
   ],
   "source": [
    "invoice_str(predict_invoice(stay_nights=2,gross_paid=694.63,tax_paid=39.63))"
   ]
  },
  {
   "cell_type": "code",
   "execution_count": 9,
   "metadata": {},
   "outputs": [
    {
     "name": "stdout",
     "output_type": "stream",
     "text": [
      "Predicting invoice:\n",
      "   (stay_nights :: gross_paid :: tax_paid) = (4 :: $1,118.83 :: $63.83)\n",
      "Trying prediction[simple]\n",
      "Trying invoice=['RNT 4 x $230.00 = $920.00', 'CLN 1 x $135.00 = $135.00', 'PET 0 x $95.00 = $0.00', 'LTAX 1 x $63.83 = $63.83']\n"
     ]
    },
    {
     "data": {
      "text/plain": [
       "['RNT 4 x $230.00 = $920.00',\n",
       " 'CLN 1 x $135.00 = $135.00',\n",
       " 'PET 0 x $95.00 = $0.00',\n",
       " 'LTAX 1 x $63.83 = $63.83']"
      ]
     },
     "execution_count": 9,
     "metadata": {},
     "output_type": "execute_result"
    }
   ],
   "source": [
    "invoice_str(predict_invoice(stay_nights=4,gross_paid=1118.83,tax_paid=63.83))"
   ]
  },
  {
   "cell_type": "code",
   "execution_count": 10,
   "metadata": {},
   "outputs": [
    {
     "name": "stdout",
     "output_type": "stream",
     "text": [
      "Predicting invoice:\n",
      "   (stay_nights :: gross_paid :: tax_paid) = (6 :: $1,453.95 :: $82.95)\n",
      "Trying prediction[simple]\n",
      "Trying invoice=['RNT 6 x $206.00 = $1,236.00', 'CLN 1 x $135.00 = $135.00', 'PET 0 x $95.00 = $0.00', 'LTAX 1 x $82.95 = $82.95']\n"
     ]
    },
    {
     "data": {
      "text/plain": [
       "['RNT 6 x $206.00 = $1,236.00',\n",
       " 'CLN 1 x $135.00 = $135.00',\n",
       " 'PET 0 x $95.00 = $0.00',\n",
       " 'LTAX 1 x $82.95 = $82.95']"
      ]
     },
     "execution_count": 10,
     "metadata": {},
     "output_type": "execute_result"
    }
   ],
   "source": [
    "invoice_str(predict_invoice(stay_nights=6,gross_paid=1453.95,tax_paid=82.95,npets=0))"
   ]
  },
  {
   "cell_type": "code",
   "execution_count": 11,
   "metadata": {},
   "outputs": [
    {
     "name": "stdout",
     "output_type": "stream",
     "text": [
      "Predicting invoice:\n",
      "   (stay_nights :: gross_paid :: tax_paid) = (4 :: $1,076.41 :: $61.41)\n",
      "Trying prediction[simple]\n",
      "Trying invoice=['RNT 4 x $220.00 = $880.00', 'CLN 1 x $135.00 = $135.00', 'PET 0 x $95.00 = $0.00', 'LTAX 1 x $61.41 = $61.41']\n"
     ]
    },
    {
     "data": {
      "text/plain": [
       "['RNT 4 x $220.00 = $880.00',\n",
       " 'CLN 1 x $135.00 = $135.00',\n",
       " 'PET 0 x $95.00 = $0.00',\n",
       " 'LTAX 1 x $61.41 = $61.41']"
      ]
     },
     "execution_count": 11,
     "metadata": {},
     "output_type": "execute_result"
    }
   ],
   "source": [
    "invoice_str(predict_invoice(stay_nights=4,gross_paid=1076.41,tax_paid=61.41,npets=0))"
   ]
  },
  {
   "cell_type": "code",
   "execution_count": 12,
   "metadata": {},
   "outputs": [
    {
     "name": "stdout",
     "output_type": "stream",
     "text": [
      "Predicting invoice:\n",
      "   (stay_nights :: gross_paid :: tax_paid) = (5 :: $1,044.59 :: $59.59)\n",
      "Trying prediction[simple]\n",
      "Trying invoice=['RNT 5 x $170.00 = $850.00', 'CLN 1 x $135.00 = $135.00', 'PET 0 x $95.00 = $0.00', 'LTAX 1 x $59.59 = $59.59']\n"
     ]
    },
    {
     "data": {
      "text/plain": [
       "['RNT 5 x $170.00 = $850.00',\n",
       " 'CLN 1 x $135.00 = $135.00',\n",
       " 'PET 0 x $95.00 = $0.00',\n",
       " 'LTAX 1 x $59.59 = $59.59']"
      ]
     },
     "execution_count": 12,
     "metadata": {},
     "output_type": "execute_result"
    }
   ],
   "source": [
    "invoice_str(predict_invoice(stay_nights=5,gross_paid=1044.59,tax_paid=59.59))"
   ]
  },
  {
   "cell_type": "code",
   "execution_count": 13,
   "metadata": {},
   "outputs": [
    {
     "name": "stdout",
     "output_type": "stream",
     "text": [
      "Predicting invoice:\n",
      "   (stay_nights :: gross_paid :: tax_paid) = (7 :: $1,773.16 :: $101.16)\n",
      "Trying prediction[simple]\n",
      "Trying invoice=['RNT 7 x $206.00 = $1,442.00', 'CLN 1 x $135.00 = $135.00', 'PET 1 x $95.00 = $95.00', 'LTAX 1 x $101.16 = $101.16']\n"
     ]
    },
    {
     "data": {
      "text/plain": [
       "['RNT 7 x $206.00 = $1,442.00',\n",
       " 'CLN 1 x $135.00 = $135.00',\n",
       " 'PET 1 x $95.00 = $95.00',\n",
       " 'LTAX 1 x $101.16 = $101.16']"
      ]
     },
     "execution_count": 13,
     "metadata": {},
     "output_type": "execute_result"
    }
   ],
   "source": [
    "invoice_str(predict_invoice(stay_nights=7,gross_paid=1773.16,tax_paid=101.16,npets=1))"
   ]
  },
  {
   "cell_type": "code",
   "execution_count": 14,
   "metadata": {},
   "outputs": [
    {
     "name": "stdout",
     "output_type": "stream",
     "text": [
      "Predicting invoice:\n",
      "   (stay_nights :: gross_paid :: tax_paid) = (5 :: $1,223.82 :: $63.77)\n",
      "Trying prediction[simple]\n",
      "Trying invoice=['RNT 5 x $205.01 = $1,025.05', 'CLN 1 x $135.00 = $135.00', 'PET 0 x $95.00 = $0.00', 'LTAX 1 x $63.77 = $63.77']\n"
     ]
    },
    {
     "ename": "RuntimeError",
     "evalue": "Could not predict invoice!",
     "output_type": "error",
     "traceback": [
      "\u001b[0;31m---------------------------------------------------------------------------\u001b[0m",
      "\u001b[0;31mRuntimeError\u001b[0m                              Traceback (most recent call last)",
      "\u001b[0;32m<ipython-input-4-8fa74bbca11f>\u001b[0m in \u001b[0;36mpredict_invoice\u001b[0;34m(stay_nights, gross_paid, tax_paid, cln_fee, pet_fee, npets)\u001b[0m\n\u001b[1;32m     34\u001b[0m         \u001b[0;32mtry\u001b[0m\u001b[0;34m:\u001b[0m\u001b[0;34m\u001b[0m\u001b[0;34m\u001b[0m\u001b[0m\n\u001b[0;32m---> 35\u001b[0;31m             \u001b[0minvoice\u001b[0m \u001b[0;34m=\u001b[0m \u001b[0mprediction\u001b[0m\u001b[0;34m(\u001b[0m\u001b[0mstay_nights\u001b[0m\u001b[0;34m,\u001b[0m\u001b[0mgross_paid\u001b[0m\u001b[0;34m,\u001b[0m\u001b[0mtax_paid\u001b[0m\u001b[0;34m,\u001b[0m\u001b[0mcln_fee\u001b[0m\u001b[0;34m,\u001b[0m\u001b[0mpet_fee\u001b[0m\u001b[0;34m,\u001b[0m\u001b[0mnpets\u001b[0m\u001b[0;34m)\u001b[0m\u001b[0;34m\u001b[0m\u001b[0;34m\u001b[0m\u001b[0m\n\u001b[0m\u001b[1;32m     36\u001b[0m             \u001b[0;32mbreak\u001b[0m\u001b[0;34m\u001b[0m\u001b[0;34m\u001b[0m\u001b[0m\n",
      "\u001b[0;32m<ipython-input-3-3eb8e6cebdef>\u001b[0m in \u001b[0;36msimple_prediction\u001b[0;34m(stay_nights, gross_paid, tax_paid, cln_fee, pet_fee, npets)\u001b[0m\n\u001b[1;32m     15\u001b[0m     \u001b[0;32mif\u001b[0m \u001b[0mtotal\u001b[0m \u001b[0;34m!=\u001b[0m \u001b[0mgross_paid\u001b[0m\u001b[0;34m:\u001b[0m\u001b[0;34m\u001b[0m\u001b[0;34m\u001b[0m\u001b[0m\n\u001b[0;32m---> 16\u001b[0;31m         \u001b[0;32mraise\u001b[0m \u001b[0mRuntimeError\u001b[0m\u001b[0;34m(\u001b[0m\u001b[0;34m\"Could not predict invoice!\"\u001b[0m\u001b[0;34m)\u001b[0m\u001b[0;34m\u001b[0m\u001b[0;34m\u001b[0m\u001b[0m\n\u001b[0m\u001b[1;32m     17\u001b[0m     \u001b[0;32mreturn\u001b[0m \u001b[0minvoice\u001b[0m\u001b[0;34m\u001b[0m\u001b[0;34m\u001b[0m\u001b[0m\n",
      "\u001b[0;31mRuntimeError\u001b[0m: Could not predict invoice!",
      "\nDuring handling of the above exception, another exception occurred:\n",
      "\u001b[0;31mIndexError\u001b[0m                                Traceback (most recent call last)",
      "\u001b[0;32m<ipython-input-4-8fa74bbca11f>\u001b[0m in \u001b[0;36mpredict_invoice\u001b[0;34m(stay_nights, gross_paid, tax_paid, cln_fee, pet_fee, npets)\u001b[0m\n\u001b[1;32m     38\u001b[0m             \u001b[0;32mtry\u001b[0m\u001b[0;34m:\u001b[0m\u001b[0;34m\u001b[0m\u001b[0;34m\u001b[0m\u001b[0m\n\u001b[0;32m---> 39\u001b[0;31m                 \u001b[0mprediction\u001b[0m \u001b[0;34m=\u001b[0m \u001b[0mpredictions\u001b[0m\u001b[0;34m.\u001b[0m\u001b[0mpop\u001b[0m\u001b[0;34m(\u001b[0m\u001b[0;34m)\u001b[0m\u001b[0;34m\u001b[0m\u001b[0;34m\u001b[0m\u001b[0m\n\u001b[0m\u001b[1;32m     40\u001b[0m             \u001b[0;32mexcept\u001b[0m \u001b[0mIndexError\u001b[0m\u001b[0;34m:\u001b[0m\u001b[0;34m\u001b[0m\u001b[0;34m\u001b[0m\u001b[0m\n",
      "\u001b[0;31mIndexError\u001b[0m: pop from empty list",
      "\nDuring handling of the above exception, another exception occurred:\n",
      "\u001b[0;31mRuntimeError\u001b[0m                              Traceback (most recent call last)",
      "\u001b[0;32m<ipython-input-14-6bdcf67ed9dc>\u001b[0m in \u001b[0;36m<module>\u001b[0;34m\u001b[0m\n\u001b[0;32m----> 1\u001b[0;31m \u001b[0minvoice_str\u001b[0m\u001b[0;34m(\u001b[0m\u001b[0mpredict_invoice\u001b[0m\u001b[0;34m(\u001b[0m\u001b[0mstay_nights\u001b[0m\u001b[0;34m=\u001b[0m\u001b[0;36m5\u001b[0m\u001b[0;34m,\u001b[0m\u001b[0mgross_paid\u001b[0m\u001b[0;34m=\u001b[0m\u001b[0;36m1223.82\u001b[0m\u001b[0;34m,\u001b[0m\u001b[0mtax_paid\u001b[0m\u001b[0;34m=\u001b[0m\u001b[0;36m63.77\u001b[0m\u001b[0;34m,\u001b[0m\u001b[0mnpets\u001b[0m\u001b[0;34m=\u001b[0m\u001b[0;36m0\u001b[0m\u001b[0;34m)\u001b[0m\u001b[0;34m)\u001b[0m\u001b[0;34m\u001b[0m\u001b[0;34m\u001b[0m\u001b[0m\n\u001b[0m",
      "\u001b[0;32m<ipython-input-4-8fa74bbca11f>\u001b[0m in \u001b[0;36mpredict_invoice\u001b[0;34m(stay_nights, gross_paid, tax_paid, cln_fee, pet_fee, npets)\u001b[0m\n\u001b[1;32m     39\u001b[0m                 \u001b[0mprediction\u001b[0m \u001b[0;34m=\u001b[0m \u001b[0mpredictions\u001b[0m\u001b[0;34m.\u001b[0m\u001b[0mpop\u001b[0m\u001b[0;34m(\u001b[0m\u001b[0;34m)\u001b[0m\u001b[0;34m\u001b[0m\u001b[0;34m\u001b[0m\u001b[0m\n\u001b[1;32m     40\u001b[0m             \u001b[0;32mexcept\u001b[0m \u001b[0mIndexError\u001b[0m\u001b[0;34m:\u001b[0m\u001b[0;34m\u001b[0m\u001b[0;34m\u001b[0m\u001b[0m\n\u001b[0;32m---> 41\u001b[0;31m                 \u001b[0;32mraise\u001b[0m \u001b[0mRuntimeError\u001b[0m\u001b[0;34m(\u001b[0m\u001b[0;34m\"Could not predict invoice!\"\u001b[0m\u001b[0;34m)\u001b[0m\u001b[0;34m\u001b[0m\u001b[0;34m\u001b[0m\u001b[0m\n\u001b[0m\u001b[1;32m     42\u001b[0m     \u001b[0;32mreturn\u001b[0m \u001b[0minvoice\u001b[0m\u001b[0;34m\u001b[0m\u001b[0;34m\u001b[0m\u001b[0m\n",
      "\u001b[0;31mRuntimeError\u001b[0m: Could not predict invoice!"
     ]
    }
   ],
   "source": [
    "invoice_str(predict_invoice(stay_nights=5,gross_paid=1223.82,tax_paid=63.77,npets=0))"
   ]
  },
  {
   "cell_type": "code",
   "execution_count": null,
   "metadata": {},
   "outputs": [],
   "source": []
  }
 ],
 "metadata": {
  "kernelspec": {
   "display_name": "Python 3",
   "language": "python",
   "name": "python3"
  },
  "language_info": {
   "codemirror_mode": {
    "name": "ipython",
    "version": 3
   },
   "file_extension": ".py",
   "mimetype": "text/x-python",
   "name": "python",
   "nbconvert_exporter": "python",
   "pygments_lexer": "ipython3",
   "version": "3.7.8"
  }
 },
 "nbformat": 4,
 "nbformat_minor": 4
}
