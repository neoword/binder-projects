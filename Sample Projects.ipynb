{
 "cells": [
  {
   "cell_type": "markdown",
   "metadata": {},
   "source": [
    "# Sample Projects\n",
    "This notebook is intended as a playground to try out various python widgets, ideas etc. This notebook is publically saved on github."
   ]
  },
  {
   "cell_type": "code",
   "execution_count": 1,
   "metadata": {},
   "outputs": [],
   "source": [
    "# tax rate is fixed\n",
    "TAX_RATE = .0605"
   ]
  },
  {
   "cell_type": "code",
   "execution_count": 2,
   "metadata": {},
   "outputs": [],
   "source": [
    "from math import floor\n",
    "\n",
    "def round(x):\n",
    "    return floor((x * 100) + .5)/100.0\n",
    "\n",
    "class LineItem:\n",
    "    def __init__(self,label,each_amount,qty):\n",
    "        self.label = label\n",
    "        self.each_amount = each_amount\n",
    "        self.qty = qty\n",
    "        self.line_amount = round(self.each_amount * self.qty)\n",
    "    def __str__(self):\n",
    "        if self.label == \"LTAX\":\n",
    "            return \"{} {} x {:0,.4f} = ${:0,.2f}\".format(self.label,self.qty,self.each_amount,self.line_amount)\n",
    "        return \"{} {} x ${:0,.2f} = ${:0,.2f}\".format(self.label,self.qty,self.each_amount,self.line_amount)\n",
    "\n",
    "def invoice_str(invoice):\n",
    "    return [str(i) for i in invoice]"
   ]
  },
  {
   "cell_type": "code",
   "execution_count": 3,
   "metadata": {},
   "outputs": [],
   "source": [
    "def simple_prediction(stay_nights,gross_paid,tax_paid,cln_fee,pet_fee,npets,extra_fee,rate):\n",
    "    predicted_nightly_rate = round((gross_paid - tax_paid - cln_fee - extra_fee - (pet_fee * npets)) / stay_nights)\n",
    "    rent = (predicted_nightly_rate * stay_nights)\n",
    "    pets = pet_fee * npets\n",
    "    subtotal = rent + cln_fee + pets + extra_fee\n",
    "    tax_calc = round(subtotal * rate)\n",
    "    total = subtotal + tax_calc\n",
    "    invoice = [\n",
    "        LineItem(\"RNT\",predicted_nightly_rate,stay_nights),\n",
    "        LineItem(\"CLN\",cln_fee,1),\n",
    "        LineItem(\"PET\",pet_fee,npets),\n",
    "        LineItem(\"XFEE\",extra_fee,1),\n",
    "        LineItem(\"LTAX\",rate,subtotal)]\n",
    "    print(\"Trying invoice={}\".format(invoice_str(invoice)))\n",
    "    \n",
    "    if total != gross_paid:\n",
    "        print(\"Invoice FAILED!!\")\n",
    "        raise RuntimeError(\"Could not predict invoice!\")\n",
    "        \n",
    "    print(\"Invoice succeeded.\")\n",
    "    return invoice"
   ]
  },
  {
   "cell_type": "code",
   "execution_count": 4,
   "metadata": {},
   "outputs": [],
   "source": [
    "def predict_invoice(stay_nights,gross_paid,tax_paid,cln_fee=135.00,pet_fee=95.00,extra_fee=0.0, rate=.05):\n",
    "    \"\"\"\n",
    "    Predicts the invoice line items given stay nights, gross amount paid,\n",
    "    taxes paid, cleaning fee, and pet fees.  If the invoice can not be predicted,\n",
    "    raise an exception.\n",
    "    \n",
    "    Parameters\n",
    "    ----------\n",
    "      stay_nights : integer\n",
    "          The number of nights stayed. Used to multiple the nightly rate to determine overal rent.\n",
    "      gross_paid : double\n",
    "          The amount (USD) paid for the stay\n",
    "      tax_paid : double\n",
    "          The amount (USD) paid in taxes.  This should be total amount (rent + fees) * TAX_RATE.\n",
    "      cln_fee : double\n",
    "          The amount (USD) charged/paid for cleaning fees.\n",
    "      pet_fee : double\n",
    "          The amount (USD) charged/paid for pet fees.\n",
    "    \n",
    "    Returns\n",
    "    -------\n",
    "       A list of invoice items or raises an exception if the invoice could not be created\n",
    "    \"\"\"\n",
    "    \n",
    "#    # initialize the list of predictions\n",
    "#    # a prediction is just a function that tries to return a list of invoice items\n",
    "#    predictions = [simple_prediction]\n",
    "\n",
    "    print(\"Predicting invoice:\")\n",
    "    print(\"   (stay_nights :: gross_paid :: tax_paid) = ({} :: ${:0,.2f} :: ${:0,.2f})\".format(stay_nights,gross_paid,tax_paid))\n",
    "#    prediction = predictions.pop()\n",
    "    invoice = []\n",
    "    npets = 0\n",
    "    while True:\n",
    "        try:\n",
    "#            invoice = prediction(stay_nights,gross_paid,tax_paid,cln_fee,pet_fee,npets)\n",
    "            invoice = simple_prediction(stay_nights,gross_paid,tax_paid,cln_fee,pet_fee,npets,extra_fee,rate)\n",
    "            break\n",
    "        except RuntimeError:\n",
    "#            try:\n",
    "#                prediction = predictions.pop()\n",
    "#            except IndexError:\n",
    "#                raise RuntimeError(\"Could not predict invoice!\")\n",
    "            npets += 1\n",
    "            if npets==3 and rate==.0605:\n",
    "                raise RuntimeError(\"Could not predict invoice!\")\n",
    "            elif npets==3:\n",
    "                return predict_invoice(stay_nights,gross_paid,tax_paid,cln_fee,pet_fee,extra_fee,rate=.0605)\n",
    "\n",
    "    return invoice"
   ]
  },
  {
   "cell_type": "code",
   "execution_count": 5,
   "metadata": {},
   "outputs": [
    {
     "data": {
      "text/plain": [
       "[['HA-F98TGY', '20210109', '5', '1178.1', '37.69', '1140.41', '56.1', '0'],\n",
       " ['HA-S1VXG5', '20210112', '4', '752.85', '24.09', '728.76', '35.85', '0'],\n",
       " ['HA-P3JL2X', '20210118', '4', '855.75', '27.38', '828.37', '40.75', '0'],\n",
       " ['HA-B2G3YJ', '20210124', '4', '935.55', '29.93', '905.62', '44.55', '0'],\n",
       " ['HA-0JTP0P', '20210129', '5', '924', '29.56', '894.44', '44', '0'],\n",
       " ['HA-3XYFRD', '20210130', '7', '1097.25', '35.11', '1062.14', '52.25', '0'],\n",
       " ['HA-1R496K', '20210213', '14', '3213.32', '102.82', '3110.5', '183.32', '0']]"
      ]
     },
     "execution_count": 5,
     "metadata": {},
     "output_type": "execute_result"
    }
   ],
   "source": [
    "import csv\n",
    "\n",
    "with open('payments.tsv') as payments_file:\n",
    "    values_tsv = csv.reader(payments_file, delimiter='\\t')\n",
    "    data=[row for row in values_tsv]\n",
    "    data=data[1:]\n",
    "data"
   ]
  },
  {
   "cell_type": "code",
   "execution_count": 6,
   "metadata": {},
   "outputs": [
    {
     "name": "stdout",
     "output_type": "stream",
     "text": [
      "Predicting invoice:\n",
      "   (stay_nights :: gross_paid :: tax_paid) = (5 :: $1,178.10 :: $56.10)\n",
      "Trying invoice=['RNT 5 x $197.40 = $987.00', 'CLN 1 x $135.00 = $135.00', 'PET 0 x $95.00 = $0.00', 'XFEE 1 x $0.00 = $0.00', 'LTAX 1122.0 x 0.0500 = $56.10']\n",
      "Invoice succeeded.\n",
      "Predicting invoice:\n",
      "   (stay_nights :: gross_paid :: tax_paid) = (4 :: $752.85 :: $35.85)\n",
      "Trying invoice=['RNT 4 x $145.50 = $582.00', 'CLN 1 x $135.00 = $135.00', 'PET 0 x $95.00 = $0.00', 'XFEE 1 x $0.00 = $0.00', 'LTAX 717.0 x 0.0500 = $35.85']\n",
      "Invoice succeeded.\n",
      "Predicting invoice:\n",
      "   (stay_nights :: gross_paid :: tax_paid) = (4 :: $855.75 :: $40.75)\n",
      "Trying invoice=['RNT 4 x $170.00 = $680.00', 'CLN 1 x $135.00 = $135.00', 'PET 0 x $95.00 = $0.00', 'XFEE 1 x $0.00 = $0.00', 'LTAX 815.0 x 0.0500 = $40.75']\n",
      "Invoice succeeded.\n",
      "Predicting invoice:\n",
      "   (stay_nights :: gross_paid :: tax_paid) = (4 :: $935.55 :: $44.55)\n",
      "Trying invoice=['RNT 4 x $189.00 = $756.00', 'CLN 1 x $135.00 = $135.00', 'PET 0 x $95.00 = $0.00', 'XFEE 1 x $0.00 = $0.00', 'LTAX 891.0 x 0.0500 = $44.55']\n",
      "Invoice succeeded.\n",
      "Predicting invoice:\n",
      "   (stay_nights :: gross_paid :: tax_paid) = (5 :: $924.00 :: $44.00)\n",
      "Trying invoice=['RNT 5 x $149.00 = $745.00', 'CLN 1 x $135.00 = $135.00', 'PET 0 x $95.00 = $0.00', 'XFEE 1 x $0.00 = $0.00', 'LTAX 880.0 x 0.0500 = $44.00']\n",
      "Invoice succeeded.\n",
      "Predicting invoice:\n",
      "   (stay_nights :: gross_paid :: tax_paid) = (7 :: $1,097.25 :: $52.25)\n",
      "Trying invoice=['RNT 7 x $130.00 = $910.00', 'CLN 1 x $135.00 = $135.00', 'PET 0 x $95.00 = $0.00', 'XFEE 1 x $0.00 = $0.00', 'LTAX 1045.0 x 0.0500 = $52.25']\n",
      "Invoice succeeded.\n",
      "Predicting invoice:\n",
      "   (stay_nights :: gross_paid :: tax_paid) = (14 :: $3,213.32 :: $183.32)\n",
      "Trying invoice=['RNT 14 x $206.79 = $2,895.06', 'CLN 1 x $135.00 = $135.00', 'PET 0 x $95.00 = $0.00', 'XFEE 1 x $0.00 = $0.00', 'LTAX 3030.06 x 0.0500 = $151.50']\n",
      "Invoice FAILED!!\n",
      "Trying invoice=['RNT 14 x $200.00 = $2,800.00', 'CLN 1 x $135.00 = $135.00', 'PET 1 x $95.00 = $95.00', 'XFEE 1 x $0.00 = $0.00', 'LTAX 3030.0 x 0.0500 = $151.50']\n",
      "Invoice FAILED!!\n",
      "Trying invoice=['RNT 14 x $193.21 = $2,704.94', 'CLN 1 x $135.00 = $135.00', 'PET 2 x $95.00 = $190.00', 'XFEE 1 x $0.00 = $0.00', 'LTAX 3029.94 x 0.0500 = $151.50']\n",
      "Invoice FAILED!!\n",
      "Predicting invoice:\n",
      "   (stay_nights :: gross_paid :: tax_paid) = (14 :: $3,213.32 :: $183.32)\n",
      "Trying invoice=['RNT 14 x $206.79 = $2,895.06', 'CLN 1 x $135.00 = $135.00', 'PET 0 x $95.00 = $0.00', 'XFEE 1 x $0.00 = $0.00', 'LTAX 3030.06 x 0.0605 = $183.32']\n",
      "Invoice FAILED!!\n",
      "Trying invoice=['RNT 14 x $200.00 = $2,800.00', 'CLN 1 x $135.00 = $135.00', 'PET 1 x $95.00 = $95.00', 'XFEE 1 x $0.00 = $0.00', 'LTAX 3030.0 x 0.0605 = $183.32']\n",
      "Invoice succeeded.\n"
     ]
    },
    {
     "data": {
      "text/plain": [
       "{'HA-F98TGY co 20210109:1178.1': ['RNT 5 x $197.40 = $987.00',\n",
       "  'CLN 1 x $135.00 = $135.00',\n",
       "  'PET 0 x $95.00 = $0.00',\n",
       "  'XFEE 1 x $0.00 = $0.00',\n",
       "  'LTAX 1122.0 x 0.0500 = $56.10'],\n",
       " 'HA-S1VXG5 co 20210112:752.85': ['RNT 4 x $145.50 = $582.00',\n",
       "  'CLN 1 x $135.00 = $135.00',\n",
       "  'PET 0 x $95.00 = $0.00',\n",
       "  'XFEE 1 x $0.00 = $0.00',\n",
       "  'LTAX 717.0 x 0.0500 = $35.85'],\n",
       " 'HA-P3JL2X co 20210118:855.75': ['RNT 4 x $170.00 = $680.00',\n",
       "  'CLN 1 x $135.00 = $135.00',\n",
       "  'PET 0 x $95.00 = $0.00',\n",
       "  'XFEE 1 x $0.00 = $0.00',\n",
       "  'LTAX 815.0 x 0.0500 = $40.75'],\n",
       " 'HA-B2G3YJ co 20210124:935.55': ['RNT 4 x $189.00 = $756.00',\n",
       "  'CLN 1 x $135.00 = $135.00',\n",
       "  'PET 0 x $95.00 = $0.00',\n",
       "  'XFEE 1 x $0.00 = $0.00',\n",
       "  'LTAX 891.0 x 0.0500 = $44.55'],\n",
       " 'HA-0JTP0P co 20210129:924': ['RNT 5 x $149.00 = $745.00',\n",
       "  'CLN 1 x $135.00 = $135.00',\n",
       "  'PET 0 x $95.00 = $0.00',\n",
       "  'XFEE 1 x $0.00 = $0.00',\n",
       "  'LTAX 880.0 x 0.0500 = $44.00'],\n",
       " 'HA-3XYFRD co 20210130:1097.25': ['RNT 7 x $130.00 = $910.00',\n",
       "  'CLN 1 x $135.00 = $135.00',\n",
       "  'PET 0 x $95.00 = $0.00',\n",
       "  'XFEE 1 x $0.00 = $0.00',\n",
       "  'LTAX 1045.0 x 0.0500 = $52.25'],\n",
       " 'HA-1R496K co 20210213:3213.32': ['RNT 14 x $200.00 = $2,800.00',\n",
       "  'CLN 1 x $135.00 = $135.00',\n",
       "  'PET 1 x $95.00 = $95.00',\n",
       "  'XFEE 1 x $0.00 = $0.00',\n",
       "  'LTAX 3030.0 x 0.0605 = $183.32']}"
      ]
     },
     "execution_count": 6,
     "metadata": {},
     "output_type": "execute_result"
    }
   ],
   "source": [
    "def invoice_label(row):\n",
    "    return \"{} co {}:{}\".format(row[0],row[1],row[3])\n",
    "\n",
    "def to_invoice(row):\n",
    "    try:\n",
    "        return invoice_str(predict_invoice(stay_nights=int(row[2]),\n",
    "                                          gross_paid=float(row[3]),\n",
    "                                          tax_paid=float(row[6]),\n",
    "                                          extra_fee=float(row[7])))\n",
    "    except:\n",
    "        return \"INVOICE FAIL\"\n",
    "\n",
    "results = {invoice_label(row):to_invoice(row) for row in data}\n",
    "results"
   ]
  }
 ],
 "metadata": {
  "kernelspec": {
   "display_name": "Python 3",
   "language": "python",
   "name": "python3"
  },
  "language_info": {
   "codemirror_mode": {
    "name": "ipython",
    "version": 3
   },
   "file_extension": ".py",
   "mimetype": "text/x-python",
   "name": "python",
   "nbconvert_exporter": "python",
   "pygments_lexer": "ipython3",
   "version": "3.8.5"
  }
 },
 "nbformat": 4,
 "nbformat_minor": 4
}
